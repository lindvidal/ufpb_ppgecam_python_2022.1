{
 "cells": [
  {
   "cell_type": "markdown",
   "id": "d770addc",
   "metadata": {},
   "source": [
    "# xarray e netCDF"
   ]
  },
  {
   "cell_type": "code",
   "execution_count": null,
   "id": "f3f5a227",
   "metadata": {},
   "outputs": [],
   "source": [
    "import xarray as xr\n",
    "from netCDF4 import Dataset"
   ]
  },
  {
   "cell_type": "markdown",
   "id": "84360135",
   "metadata": {},
   "source": [
    "### Leitura do arquivo netCDF (.nc)"
   ]
  },
  {
   "cell_type": "code",
   "execution_count": null,
   "id": "b2c7cbe1",
   "metadata": {},
   "outputs": [],
   "source": [
    "ds = xr.open_dataset('dataset.nc')\n",
    "ds"
   ]
  },
  {
   "cell_type": "code",
   "execution_count": null,
   "id": "ae1c9bdf",
   "metadata": {},
   "outputs": [],
   "source": [
    "# Specific rain water content (crwc)\n",
    "# Units: kg.kg-1\n",
    "# Description: The mass of water produced from large-scale clouds\n",
    "#that is of raindrop size and so can fall to the surface as precipitation."
   ]
  },
  {
   "cell_type": "markdown",
   "id": "16cabfe5",
   "metadata": {},
   "source": [
    "### Convertendo longitude "
   ]
  },
  {
   "cell_type": "code",
   "execution_count": null,
   "id": "46b5ad66",
   "metadata": {},
   "outputs": [],
   "source": [
    "# 0 graus = 360 graus ::: 0 + 180 = 180 ::: 180%360 = 180 ::: 180 - 180 = 0\n",
    "# 179 graus ::: 179 + 180 = 359 ::: 359%360 = 359 ::: 359 - 180 = 179\n",
    "# 180 graus ::: 180 + 180 = 360 ::: 360%360 = 0 ::: 0 - 180 = -180\n",
    "# 181 graus ::: 361 ::: 1 ::: -179\n",
    "\n",
    "ds.coords['longitude'] = ((ds.coords['longitude']+180)%360)-180\n",
    "ds = ds.sortby(ds.longitude)\n",
    "ds"
   ]
  },
  {
   "cell_type": "markdown",
   "id": "a531da94",
   "metadata": {},
   "source": [
    "### Criando um subset"
   ]
  },
  {
   "cell_type": "code",
   "execution_count": null,
   "id": "6b84c791",
   "metadata": {},
   "outputs": [],
   "source": [
    "#América do Sul\n",
    "ds_subset = ds.sel(longitude = slice(-92, -28), latitude = slice(13, -56))\n",
    "ds_subset"
   ]
  },
  {
   "cell_type": "code",
   "execution_count": null,
   "id": "4045c0a0",
   "metadata": {},
   "outputs": [],
   "source": [
    "ds_subset.to_netcdf('ds_south_america.nc')"
   ]
  },
  {
   "cell_type": "markdown",
   "id": "567b3d4c",
   "metadata": {},
   "source": [
    "### Extraindo variáveis"
   ]
  },
  {
   "cell_type": "code",
   "execution_count": null,
   "id": "541e3f1d",
   "metadata": {},
   "outputs": [],
   "source": [
    "t = ds_subset['t'] - 273.15 #convertendo temperatura de K para Celsius\n",
    "crwc = ds_subset['crwc']"
   ]
  },
  {
   "cell_type": "code",
   "execution_count": null,
   "id": "da4fbc52",
   "metadata": {},
   "outputs": [],
   "source": [
    "t"
   ]
  },
  {
   "cell_type": "markdown",
   "id": "06d70d7e",
   "metadata": {},
   "source": [
    "### Indexando e selecionando dados"
   ]
  },
  {
   "cell_type": "code",
   "execution_count": null,
   "id": "788887ca",
   "metadata": {},
   "outputs": [],
   "source": [
    "#index selection\n",
    "t.isel(time = slice(0, 1))"
   ]
  },
  {
   "cell_type": "code",
   "execution_count": null,
   "id": "41b5b50b",
   "metadata": {},
   "outputs": [],
   "source": [
    "#value selection\n",
    "t.sel(time = slice('2021-12-25T00:00:00.000000000','2021-12-27T00:00:00.000000000'))"
   ]
  },
  {
   "cell_type": "markdown",
   "id": "cab22670",
   "metadata": {},
   "source": [
    "### Extraindo dados de um ponto"
   ]
  },
  {
   "cell_type": "code",
   "execution_count": null,
   "id": "ae8c8fb3",
   "metadata": {},
   "outputs": [],
   "source": [
    "t.sel(longitude = -38.54, latitude = -3.71, method = 'nearest', level = 1000)\n",
    "#t.sel(longitude = -38.54, latitude = -3.71, method = 'nearest').isel(level = 3)\n"
   ]
  },
  {
   "cell_type": "code",
   "execution_count": null,
   "id": "2ffe7f1b",
   "metadata": {},
   "outputs": [],
   "source": [
    "t.sel(longitude = -38.54, latitude = -3.71, method = 'nearest', level = 1000).plot()"
   ]
  },
  {
   "cell_type": "code",
   "execution_count": null,
   "id": "a44401ab",
   "metadata": {},
   "outputs": [],
   "source": [
    "t.isel(time=0).sel(longitude = -38.5, latitude=-3.75, method = 'nearest').plot(y = 'level', yincrease  = False)"
   ]
  },
  {
   "cell_type": "code",
   "execution_count": null,
   "id": "39f25ec3",
   "metadata": {},
   "outputs": [],
   "source": [
    "t.isel(level=3).sel(longitude = -38.5, latitude=-3.75, method = 'nearest').plot(x ='time')"
   ]
  },
  {
   "cell_type": "code",
   "execution_count": null,
   "id": "07028f7c",
   "metadata": {},
   "outputs": [],
   "source": [
    "t.isel(time = 0).sel(level = 1000).plot(cmap = 'rainbow')"
   ]
  },
  {
   "cell_type": "code",
   "execution_count": null,
   "id": "5038692d",
   "metadata": {},
   "outputs": [],
   "source": [
    "t.sel(level = 1000).mean(dim = 'time').plot(cmap = 'rainbow')\n",
    "# t.sel(level = 1000).max(dim = 'time').plot(cmap = 'viridis')\n",
    "# t.sel(level = 1000).min(dim = 'time').plot(cmap = 'rainbow')"
   ]
  }
 ],
 "metadata": {
  "kernelspec": {
   "display_name": "Python 3 (ipykernel)",
   "language": "python",
   "name": "python3"
  },
  "language_info": {
   "codemirror_mode": {
    "name": "ipython",
    "version": 3
   },
   "file_extension": ".py",
   "mimetype": "text/x-python",
   "name": "python",
   "nbconvert_exporter": "python",
   "pygments_lexer": "ipython3",
   "version": "3.9.7"
  }
 },
 "nbformat": 4,
 "nbformat_minor": 5
}
